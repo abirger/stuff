{
 "cells": [
  {
   "cell_type": "markdown",
   "metadata": {},
   "source": [
    "# IOOS CSW queries: NANOOS & OOI Endurance tests\n",
    "12/30/2015. [Emilio Mayorga](https://github.com/emiliom), [NANOOS](http://nanoos.org). Much of this is adapted from notebooks from [Filipe Fernandes](https://github.com/ocefpaf)."
   ]
  },
  {
   "cell_type": "code",
   "execution_count": 1,
   "metadata": {
    "collapsed": true
   },
   "outputs": [],
   "source": [
    "import numpy as np\n",
    "import pandas as pd"
   ]
  },
  {
   "cell_type": "code",
   "execution_count": 2,
   "metadata": {
    "collapsed": false
   },
   "outputs": [],
   "source": [
    "from owslib.csw import CatalogueServiceWeb\n",
    "from owslib import fes"
   ]
  },
  {
   "cell_type": "code",
   "execution_count": 3,
   "metadata": {
    "collapsed": true
   },
   "outputs": [],
   "source": [
    "from pprint import pprint\n",
    "fmt = '{:*^64}'.format"
   ]
  },
  {
   "cell_type": "code",
   "execution_count": 4,
   "metadata": {
    "collapsed": true
   },
   "outputs": [],
   "source": [
    "def fes_date_filter(start, stop, constraint='overlaps'):\n",
    "    \"\"\"\n",
    "    Take datetime-like objects and returns a fes filter for date range\n",
    "    (begin and end inclusive).\n",
    "    NOTE: Truncates the minutes!!!\n",
    "\n",
    "    Examples\n",
    "    --------\n",
    "    >>> from datetime import datetime, timedelta\n",
    "    >>> stop = datetime(2010, 1, 1, 12, 30, 59).replace(tzinfo=pytz.utc)\n",
    "    >>> start = stop - timedelta(days=7)\n",
    "    >>> begin, end = fes_date_filter(start, stop, constraint='overlaps')\n",
    "    >>> begin.literal, end.literal\n",
    "    ('2010-01-01 12:00', '2009-12-25 12:00')\n",
    "    >>> begin.propertyoperator, end.propertyoperator\n",
    "    ('ogc:PropertyIsLessThanOrEqualTo', 'ogc:PropertyIsGreaterThanOrEqualTo')\n",
    "    >>> begin, end = fes_date_filter(start, stop, constraint='within')\n",
    "    >>> begin.literal, end.literal\n",
    "    ('2009-12-25 12:00', '2010-01-01 12:00')\n",
    "    >>> begin.propertyoperator, end.propertyoperator\n",
    "    ('ogc:PropertyIsGreaterThanOrEqualTo', 'ogc:PropertyIsLessThanOrEqualTo')\n",
    "\n",
    "    \"\"\"\n",
    "    start = start.strftime('%Y-%m-%d %H:00')\n",
    "    stop = stop.strftime('%Y-%m-%d %H:00')\n",
    "    if constraint == 'overlaps':\n",
    "        propertyname = 'apiso:TempExtent_begin'\n",
    "        begin = fes.PropertyIsLessThanOrEqualTo(propertyname=propertyname,\n",
    "                                                literal=stop)\n",
    "        propertyname = 'apiso:TempExtent_end'\n",
    "        end = fes.PropertyIsGreaterThanOrEqualTo(propertyname=propertyname,\n",
    "                                                 literal=start)\n",
    "    elif constraint == 'within':\n",
    "        propertyname = 'apiso:TempExtent_begin'\n",
    "        begin = fes.PropertyIsGreaterThanOrEqualTo(propertyname=propertyname,\n",
    "                                                   literal=start)\n",
    "        propertyname = 'apiso:TempExtent_end'\n",
    "        end = fes.PropertyIsLessThanOrEqualTo(propertyname=propertyname,\n",
    "                                              literal=stop)\n",
    "    else:\n",
    "        raise NameError('Unrecognized constraint {}'.format(constraint))\n",
    "    return begin, end"
   ]
  },
  {
   "cell_type": "code",
   "execution_count": 5,
   "metadata": {
    "collapsed": false
   },
   "outputs": [],
   "source": [
    "def run_ngdc_csw(filter_list):\n",
    "    csw = CatalogueServiceWeb('http://www.ngdc.noaa.gov/geoportal/csw',\n",
    "                              timeout=60)\n",
    "    csw.getrecords2(constraints=filter_list, maxrecords=1000, esn='full')\n",
    "    \n",
    "    print(fmt(' Catalog information '))\n",
    "    print(\"CSW version: {}\".format(csw.version))\n",
    "    print(\"Number of datasets available: {}\".format(len(csw.records.keys())))\n",
    "    \n",
    "    return csw"
   ]
  },
  {
   "cell_type": "code",
   "execution_count": 6,
   "metadata": {
    "collapsed": true
   },
   "outputs": [],
   "source": [
    "def service_urls(csw):\n",
    "    df = []\n",
    "    for key, rec in csw.records.items():\n",
    "        df.append(pd.DataFrame(rec.references))\n",
    "\n",
    "    df = pd.concat(df, ignore_index=True)\n",
    "    df['scheme'] = [scheme.split(':')[-2] for scheme in df['scheme']]\n",
    "\n",
    "    return df.set_index('scheme').sort_index().stack()"
   ]
  },
  {
   "cell_type": "markdown",
   "metadata": {},
   "source": [
    "## GeoPortal uuid's for NGDC IOOS Collections"
   ]
  },
  {
   "cell_type": "code",
   "execution_count": 7,
   "metadata": {
    "collapsed": false
   },
   "outputs": [],
   "source": [
    "# IOOS NGDC collection uuid's\n",
    "# uuidscsv_url = 'https://raw.githubusercontent.com/ioos/registry/master/uuid.csv'\n",
    "# The separator used is messy! It's ',\\t' in most cases,\n",
    "# except OceanSITES\n",
    "# That's too messy! I've created my own, cleaned-up copy, for now:\n",
    "uuidscsv_url = 'https://raw.githubusercontent.com/emiliom/stuff/master/ioos_ngdc_registry_uuid.csv'\n",
    "uuids_df = pd.read_csv(uuidscsv_url)\n",
    "uuids_df.set_index('MetadataCollection', inplace=True)"
   ]
  },
  {
   "cell_type": "code",
   "execution_count": 8,
   "metadata": {
    "collapsed": false
   },
   "outputs": [
    {
     "data": {
      "text/plain": [
       "{'AOOS': '{1706F520-2647-4A33-B7BF-592FAFDE4B45}',\n",
       " 'ATN_DAC': '{07875897-E6A6-4EDB-B111-F5D6BE841ED6}',\n",
       " 'CARICOOS': '{117F1684-A5E3-400E-98D8-A270BDBA1603}',\n",
       " 'CENCOOS': '{4BA5624D-A61F-4C7E-BAEE-7F8BDDB8D9C4}',\n",
       " 'GCOOS': '{003747E7-4818-43CD-937D-44D5B8E2F4E9}',\n",
       " 'GLOS': '{B664427E-6953-4517-A874-78DDBBD3893E}',\n",
       " 'Glider_DAC': '{2546E50F-F0C7-4365-9D45-694DD22E5F26}',\n",
       " 'HFradar_DAC': '{A4A65346-6B65-4ED2-A2DC-5D529074EE6D}',\n",
       " 'MARACOOS': '{C664F631-6E53-4108-B8DD-EFADF558E408}',\n",
       " 'MODELING_TESTBED': '{8BF00750-66C7-49FF-8894-4D4F96FD86C0}',\n",
       " 'NANOOS': '{254CCFC0-E408-4E13-BD62-87567E7586BB}',\n",
       " 'NAVY': '{3B94DAAE-B7E9-4789-993B-0045AD9149D9}',\n",
       " 'NDBC': '{828981B0-0039-4360-9788-E788FA6B0875}',\n",
       " 'NERACOOS': '{E41F4FCD-0297-415D-AC53-967B970C3A3E}',\n",
       " 'NOS/CO-OPS': '{72E748DF-23B1-4E80-A2C4-81E70783094A}',\n",
       " 'OceanSITES': '{D479A77C-414E-404A-AF9B-C0BA9975E90D}',\n",
       " 'Other': '{7EDF86E1-573C-4B3C-A979-AD499A11FD22}',\n",
       " 'PacIOOS': '{68FF11D8-D66B-45EE-B33A-21919BB26421}',\n",
       " 'SCCOOS': '{B70B3E3C-3851-4BA9-8E9B-C9F195DCEAC7}',\n",
       " 'SECOORA': '{B3EA8869-B726-4E39-898A-299E53ABBC98}',\n",
       " 'USACE': '{73019DFF-2E01-4800-91CD-0B3F812256A7}',\n",
       " 'USGS/CMGP': '{C6F11F00-C2BD-4AC6-8E2C-013E16F4932E}'}"
      ]
     },
     "execution_count": 8,
     "metadata": {},
     "output_type": "execute_result"
    }
   ],
   "source": [
    "uuids = uuids_df.to_dict()['UUID']\n",
    "uuids"
   ]
  },
  {
   "cell_type": "markdown",
   "metadata": {},
   "source": [
    "## Query 1: OOI Endurance bbox, datetime range, and SST"
   ]
  },
  {
   "cell_type": "markdown",
   "metadata": {},
   "source": [
    "### Set up filters\n",
    "OOI Endurance bbox, and \"now\" +/- 5 days, and 'sea_water_temperature'"
   ]
  },
  {
   "cell_type": "code",
   "execution_count": 9,
   "metadata": {
    "collapsed": true
   },
   "outputs": [],
   "source": [
    "bbox = [-127, 43, -123.75, 48]"
   ]
  },
  {
   "cell_type": "code",
   "execution_count": 10,
   "metadata": {
    "collapsed": true
   },
   "outputs": [],
   "source": [
    "from datetime import datetime, timedelta\n",
    "\n",
    "dt = 5\n",
    "\n",
    "now = datetime.utcnow()\n",
    "start = now - timedelta(days=dt)\n",
    "stop = now + timedelta(days=dt)"
   ]
  },
  {
   "cell_type": "code",
   "execution_count": 11,
   "metadata": {
    "collapsed": true
   },
   "outputs": [],
   "source": [
    "sos_name = 'sea_water_temperature'\n",
    "\n",
    "name_list = ['sea_water_temperature',\n",
    "             'sea_surface_temperature',\n",
    "             'sea_water_potential_temperature',\n",
    "             'equivalent_potential_temperature',\n",
    "             'sea_water_conservative_temperature',\n",
    "             'pseudo_equivalent_potential_temperature']\n",
    "# Not includeing 'Water Temperature'"
   ]
  },
  {
   "cell_type": "code",
   "execution_count": 12,
   "metadata": {
    "collapsed": true
   },
   "outputs": [],
   "source": [
    "begin, end = fes_date_filter(start, stop)"
   ]
  },
  {
   "cell_type": "code",
   "execution_count": 13,
   "metadata": {
    "collapsed": true
   },
   "outputs": [],
   "source": [
    "kw = dict(wildCard='*',\n",
    "          escapeChar='\\\\',\n",
    "          singleChar='?',\n",
    "          propertyname='apiso:AnyText')\n",
    "\n",
    "variable_names_filt = fes.Or([fes.PropertyIsLike(literal=('*%s*' % val), **kw)\n",
    "                              for val in name_list])\n",
    "\n",
    "filter_list = [fes.And([begin, end, fes.BBox(bbox), variable_names_filt])]"
   ]
  },
  {
   "cell_type": "markdown",
   "metadata": {},
   "source": [
    "### Run CSW query"
   ]
  },
  {
   "cell_type": "code",
   "execution_count": 14,
   "metadata": {
    "collapsed": false
   },
   "outputs": [
    {
     "name": "stdout",
     "output_type": "stream",
     "text": [
      "********************* Catalog information **********************\n",
      "CSW version: 2.0.2\n",
      "Number of datasets available: 7\n"
     ]
    },
    {
     "data": {
      "text/plain": [
       "['NANOOS Sensor Observation Service (SOS), a 52North IOOS SOS server',\n",
       " 'cwwcNDBCMet',\n",
       " 'hycom_global',\n",
       " 'National Data Buoy Center SOS',\n",
       " 'dhw',\n",
       " 'CMOP_f33',\n",
       " 'CA_DAS']"
      ]
     },
     "execution_count": 14,
     "metadata": {},
     "output_type": "execute_result"
    }
   ],
   "source": [
    "csw = run_ngdc_csw(filter_list)\n",
    "csw.records.keys()"
   ]
  },
  {
   "cell_type": "markdown",
   "metadata": {},
   "source": [
    "*Note that the COOPS SOS is not returned. This is probably due to an improper setup for the temporal extent in the COOPS SOS' ISO metadata record.*"
   ]
  },
  {
   "cell_type": "markdown",
   "metadata": {},
   "source": [
    "### CSW query w/o the date filter and limited to the NANOOS, NOS/CO-OPS and NDBC collections\n",
    "Just to double-check what's returned when the date filter is removed, but limited to those 3 collections so that a reasonable and relevant set of records is returned."
   ]
  },
  {
   "cell_type": "code",
   "execution_count": 15,
   "metadata": {
    "collapsed": false
   },
   "outputs": [
    {
     "name": "stdout",
     "output_type": "stream",
     "text": [
      "********************* Catalog information **********************\n",
      "CSW version: 2.0.2\n",
      "Number of datasets available: 6\n"
     ]
    },
    {
     "data": {
      "text/plain": [
       "['org.nanoos:OCOS_latest_aggregation',\n",
       " 'NANOOS Sensor Observation Service (SOS), a 52North IOOS SOS server',\n",
       " 'osuSstClimate',\n",
       " 'NOAA.NOS.CO-OPS SOS',\n",
       " 'National Data Buoy Center SOS',\n",
       " 'CMOP_f33']"
      ]
     },
     "execution_count": 15,
     "metadata": {},
     "output_type": "execute_result"
    }
   ],
   "source": [
    "collection_uuids = fes.Or(\n",
    "    [fes.PropertyIsEqualTo(propertyname='dc:source', literal=uuids[collection])\n",
    "     for collection in ['NANOOS', 'NOS/CO-OPS', 'NDBC']]\n",
    "    )\n",
    "filter_list = [fes.And([fes.BBox(bbox), variable_names_filt, collection_uuids])]\n",
    "csw = run_ngdc_csw(filter_list)\n",
    "csw.records.keys()"
   ]
  },
  {
   "cell_type": "markdown",
   "metadata": {},
   "source": [
    "## Query 2: IOOS NGDC Collection UUID's for NANOOS and NOS/CO-OPS"
   ]
  },
  {
   "cell_type": "code",
   "execution_count": 16,
   "metadata": {
    "collapsed": false
   },
   "outputs": [
    {
     "name": "stdout",
     "output_type": "stream",
     "text": [
      "********************** Collection: NANOOS **********************\n",
      "********************* Catalog information **********************\n",
      "CSW version: 2.0.2\n",
      "Number of datasets available: 8\n",
      "['CMOP_f33',\n",
      " 'org.nanoos:OCOS_latest_aggregation',\n",
      " '{725A8A9B-1937-4DBF-ADF4-F6405543DC70}',\n",
      " 'NANOOS Sensor Observation Service (SOS), a 52North IOOS SOS server',\n",
      " 'osuSstClimate',\n",
      " 'osuSstAnom',\n",
      " 'osuChlaClimate',\n",
      " 'osuChlaAnom']\n",
      "---------- OPeNDAP services:\n",
      "set(['http://amb6400b.stccmop.org:8080/thredds/dodsC/model_data/forecast',\n",
      "     'http://ona.coas.oregonstate.edu:8080/thredds/dodsC/NANOOS/OCOS'])\n",
      "---------- SOS services:\n",
      "set(['http://data.nanoos.org/52nsos/sos/kvp?service=SOS&request=GetCapabilities&acceptVersions=1.0.0'])\n",
      "******************** Collection: NOS/CO-OPS ********************\n",
      "********************* Catalog information **********************\n",
      "CSW version: 2.0.2\n",
      "Number of datasets available: 11\n",
      "['gov.noaa.nos.co-ops:TBOFS/fmrc/Aggregated_7_day_TBOFS_Fields_Forecast_best.ncd',\n",
      " 'gov.noaa.nos.co-ops:SJROFS/fmrc/Aggregated_7_day_SJROFS_Fields_Forecast_best.ncd',\n",
      " 'gov.noaa.nos.co-ops:NYOFS/fmrc/Aggregated_7_day_NYOFS_Fields_Forecast_best.ncd',\n",
      " 'gov.noaa.nos.co-ops:LSOFS/fmrc/Aggregated_7_day_LSOFS_Fields_Forecast_best.ncd',\n",
      " 'gov.noaa.nos.co-ops:LOOFS/fmrc/Aggregated_7_day_LOOFS_Fields_Forecast_best.ncd',\n",
      " 'gov.noaa.nos.co-ops:LMOFS/fmrc/Aggregated_7_day_LMOFS_Fields_Forecast_best.ncd',\n",
      " 'gov.noaa.nos.co-ops:LHOFS/fmrc/Aggregated_7_day_LHOFS_Fields_Forecast_best.ncd',\n",
      " 'gov.noaa.nos.co-ops:LEOFS/fmrc/Aggregated_7_day_LEOFS_Fields_Forecast_best.ncd',\n",
      " 'gov.noaa.nos.co-ops:DBOFS/fmrc/Aggregated_7_day_DBOFS_Fields_Forecast_best.ncd',\n",
      " 'gov.noaa.nos.co-ops:CBOFS/fmrc/Aggregated_7_day_CBOFS_Fields_Forecast_best.ncd',\n",
      " 'NOAA.NOS.CO-OPS SOS']\n",
      "---------- OPeNDAP services:\n",
      "set(['http://opendap.co-ops.nos.noaa.gov/thredds/dodsC/CBOFS/fmrc/Aggregated_7_day_CBOFS_Fields_Forecast_best.ncd',\n",
      "     'http://opendap.co-ops.nos.noaa.gov/thredds/dodsC/DBOFS/fmrc/Aggregated_7_day_DBOFS_Fields_Forecast_best.ncd',\n",
      "     'http://opendap.co-ops.nos.noaa.gov/thredds/dodsC/LEOFS/fmrc/Aggregated_7_day_LEOFS_Fields_Forecast_best.ncd',\n",
      "     'http://opendap.co-ops.nos.noaa.gov/thredds/dodsC/LHOFS/fmrc/Aggregated_7_day_LHOFS_Fields_Forecast_best.ncd',\n",
      "     'http://opendap.co-ops.nos.noaa.gov/thredds/dodsC/LMOFS/fmrc/Aggregated_7_day_LMOFS_Fields_Forecast_best.ncd',\n",
      "     'http://opendap.co-ops.nos.noaa.gov/thredds/dodsC/LOOFS/fmrc/Aggregated_7_day_LOOFS_Fields_Forecast_best.ncd',\n",
      "     'http://opendap.co-ops.nos.noaa.gov/thredds/dodsC/LSOFS/fmrc/Aggregated_7_day_LSOFS_Fields_Forecast_best.ncd',\n",
      "     'http://opendap.co-ops.nos.noaa.gov/thredds/dodsC/NYOFS/fmrc/Aggregated_7_day_NYOFS_Fields_Forecast_best.ncd',\n",
      "     'http://opendap.co-ops.nos.noaa.gov/thredds/dodsC/SJROFS/fmrc/Aggregated_7_day_SJROFS_Fields_Forecast_best.ncd',\n",
      "     'http://opendap.co-ops.nos.noaa.gov/thredds/dodsC/TBOFS/fmrc/Aggregated_7_day_TBOFS_Fields_Forecast_best.ncd'])\n",
      "---------- SOS services:\n",
      "set(['http://opendap.co-ops.nos.noaa.gov/ioos-dif-sos/SOS?service=SOS&request=GetCapabilities&acceptVersions=1.0.0'])\n"
     ]
    }
   ],
   "source": [
    "uuid_selection = ['NANOOS', 'NOS/CO-OPS']\n",
    "\n",
    "for collection in uuid_selection:\n",
    "    collection_uuid = fes.PropertyIsEqualTo(propertyname='dc:source',\n",
    "                                            literal=uuids[collection])\n",
    "    filter_list = [collection_uuid]\n",
    "    \n",
    "    print(fmt(' Collection: %s ' % collection))\n",
    "    csw = run_ngdc_csw(filter_list)\n",
    "    pprint(csw.records.keys())\n",
    "    services = service_urls(csw)\n",
    "    print('---------- OPeNDAP services:')\n",
    "    pprint(set(services['odp'].values.tolist()))\n",
    "    print('---------- SOS services:')\n",
    "    pprint(set(services['sos'].values.tolist()))"
   ]
  },
  {
   "cell_type": "markdown",
   "metadata": {},
   "source": [
    "NOTE for NANOOS Collection: `{725A8A9B-1937-4DBF-ADF4-F6405543DC70}` is the NANOOS GeoServer WMS"
   ]
  },
  {
   "cell_type": "markdown",
   "metadata": {},
   "source": [
    "### Examine the NOS/CO-OPS SOS record"
   ]
  },
  {
   "cell_type": "code",
   "execution_count": 17,
   "metadata": {
    "collapsed": false
   },
   "outputs": [
    {
     "name": "stdout",
     "output_type": "stream",
     "text": [
      "********************* Catalog information **********************\n",
      "CSW version: 2.0.2\n",
      "Number of datasets available: 11\n"
     ]
    }
   ],
   "source": [
    "collection_uuid = fes.PropertyIsEqualTo(propertyname='dc:source',\n",
    "                                        literal=uuids['NOS/CO-OPS'])\n",
    "filter_list = [collection_uuid]\n",
    "csw = run_ngdc_csw(filter_list)"
   ]
  },
  {
   "cell_type": "code",
   "execution_count": 18,
   "metadata": {
    "collapsed": false
   },
   "outputs": [
    {
     "name": "stdout",
     "output_type": "stream",
     "text": [
      "<csw:Record xmlns:csw=\"http://www.opengis.net/cat/csw/2.0.2\" xmlns:dc=\"http://purl.org/dc/elements/1.1/\" xmlns:dcmiBox=\"http://dublincore.org/documents/2000/07/11/dcmi-box/\" xmlns:dct=\"http://purl.org/dc/terms/\" xmlns:gml=\"http://www.opengis.net/gml\" xmlns:ows=\"http://www.opengis.net/ows\" xmlns:xsd=\"http://www.w3.org/2001/XMLSchema\">\n",
      "<dc:identifier scheme=\"urn:x-esri:specification:ServiceType:ArcIMS:Metadata:FileID\">NOAA.NOS.CO-OPS SOS</dc:identifier>\n",
      "<dc:identifier scheme=\"urn:x-esri:specification:ServiceType:ArcIMS:Metadata:DocID\">{EAA709FD-780B-43E3-9729-6D793EBFC261}</dc:identifier>\n",
      "<dc:title>NOAA.NOS.CO-OPS SOS</dc:title>\n",
      "<dc:type scheme=\"urn:x-esri:specification:ServiceType:ArcIMS:Metadata:ContentType\">liveData</dc:type>\n",
      "<dc:subject>Air Temperature</dc:subject>\n",
      "<dc:subject>Barometric Pressure</dc:subject>\n",
      "<dc:subject>Conductivity</dc:subject>\n",
      "<dc:subject>Currents</dc:subject>\n",
      "<dc:subject>Datum</dc:subject>\n",
      "<dc:subject>Harmonic Constituents</dc:subject>\n",
      "<dc:subject>Rain Fall</dc:subject>\n",
      "<dc:subject>Relative Humidity</dc:subject>\n",
      "<dc:subject>Salinity</dc:subject>\n",
      "<dc:subject>Visibility</dc:subject>\n",
      "<dc:subject>Water Level</dc:subject>\n",
      "<dc:subject>Water Level Predictions</dc:subject>\n",
      "<dc:subject>Water Temperature</dc:subject>\n",
      "<dc:subject>Winds</dc:subject>\n",
      "<dc:subject>air_temperature</dc:subject>\n",
      "<dc:subject>air_pressure</dc:subject>\n",
      "<dc:subject>sea_water_electrical_conductivity</dc:subject>\n",
      "<dc:subject>currents</dc:subject>\n",
      "<dc:subject>sea_water_salinity</dc:subject>\n",
      "<dc:subject>water_surface_height_above_reference_datum</dc:subject>\n",
      "<dc:subject>sea_surface_height_amplitude_due_to_equilibrium_ocean_tide</dc:subject>\n",
      "<dc:subject>sea_water_temperature</dc:subject>\n",
      "<dc:subject>winds</dc:subject>\n",
      "<dc:subject>harmonic_constituents</dc:subject>\n",
      "<dc:subject>datums</dc:subject>\n",
      "<dc:subject>relative_humidity</dc:subject>\n",
      "<dc:subject>rain_fall</dc:subject>\n",
      "<dc:subject>visibility</dc:subject>\n",
      "<dct:modified>2015-12-30T10:51:30-07:00</dct:modified>\n",
      "<dct:abstract>NOAA.NOS.CO-OPS Sensor Observation Service (SOS) Server</dct:abstract>\n",
      "<dct:references scheme=\"urn:x-esri:specification:ServiceType:distribution:url\">http://opendap.co-ops.nos.noaa.gov/ioos-dif-sos/SOS</dct:references>\n",
      "<dct:references scheme=\"urn:x-esri:specification:ServiceType:distribution:url\">http://opendap.co-ops.nos.noaa.gov/ioos-dif-sos/SOS?service=SOS&amp;request=GetCapabilities&amp;acceptVersions=1.0.0</dct:references>\n",
      "<dct:references scheme=\"urn:x-esri:specification:ServiceType:sos:url\">http://opendap.co-ops.nos.noaa.gov/ioos-dif-sos/SOS?service=SOS&amp;request=GetCapabilities&amp;acceptVersions=1.0.0</dct:references>\n",
      "<dct:references scheme=\"urn:x-esri:specification:ServiceType:sos:url\">http://opendap.co-ops.nos.noaa.gov/ioos-dif-sos/SOS?service=SOS&amp;request=GetCapabilities&amp;acceptVersions=1.0.0</dct:references>\n",
      "<dct:references scheme=\"urn:x-esri:specification:ServiceType:sos:url\">http://opendap.co-ops.nos.noaa.gov/ioos-dif-sos/SOS?service=SOS&amp;request=GetCapabilities&amp;acceptVersions=1.0.0</dct:references>\n",
      "<dct:references scheme=\"urn:x-esri:specification:ServiceType:download:url\">http://opendap.co-ops.nos.noaa.gov/ioos-dif-sos/SOS</dct:references>\n",
      "<dct:references scheme=\"urn:x-esri:specification:ServiceType:download:url\">http://opendap.co-ops.nos.noaa.gov/ioos-dif-sos/SOS?service=SOS&amp;request=GetCapabilities&amp;acceptVersions=1.0.0</dct:references>\n",
      "<ows:WGS84BoundingBox>\n",
      "<ows:LowerCorner>-177.3608 -18.1333</ows:LowerCorner>\n",
      "<ows:UpperCorner>178.425 71.36</ows:UpperCorner>\n",
      "</ows:WGS84BoundingBox>\n",
      "<ows:BoundingBox>\n",
      "<ows:LowerCorner>-177.3608 -18.1333</ows:LowerCorner>\n",
      "<ows:UpperCorner>178.425 71.36</ows:UpperCorner>\n",
      "</ows:BoundingBox>\n",
      "<dc:source>{72E748DF-23B1-4E80-A2C4-81E70783094A}</dc:source>\n",
      "</csw:Record>\n",
      "\n"
     ]
    }
   ],
   "source": [
    "print(csw.records['NOAA.NOS.CO-OPS SOS'].xml)"
   ]
  },
  {
   "cell_type": "markdown",
   "metadata": {},
   "source": [
    "## Query 3: NANOOS in keywords or any text"
   ]
  },
  {
   "cell_type": "code",
   "execution_count": 19,
   "metadata": {
    "collapsed": true
   },
   "outputs": [],
   "source": [
    "kw = dict(wildCard='*', escapeChar='\\\\', singleChar='?')"
   ]
  },
  {
   "cell_type": "markdown",
   "metadata": {},
   "source": [
    "### In keywords, `apiso:Subject`"
   ]
  },
  {
   "cell_type": "code",
   "execution_count": 20,
   "metadata": {
    "collapsed": true
   },
   "outputs": [],
   "source": [
    "kw['propertyname'] = 'apiso:Subject'\n",
    "filt_nanoos = fes.PropertyIsLike(literal=('*%s*' % 'NANOOS'), **kw)\n",
    "\n",
    "filter_list = [filt_nanoos]"
   ]
  },
  {
   "cell_type": "code",
   "execution_count": 21,
   "metadata": {
    "collapsed": false
   },
   "outputs": [
    {
     "name": "stdout",
     "output_type": "stream",
     "text": [
      "********************* Catalog information **********************\n",
      "CSW version: 2.0.2\n",
      "Number of datasets available: 2\n"
     ]
    },
    {
     "data": {
      "text/plain": [
       "['NANOOS Sensor Observation Service (SOS), a 52North IOOS SOS server',\n",
       " 'org.nanoos:OCOS_latest_aggregation']"
      ]
     },
     "execution_count": 21,
     "metadata": {},
     "output_type": "execute_result"
    }
   ],
   "source": [
    "csw = run_ngdc_csw(filter_list)\n",
    "csw.records.keys()"
   ]
  },
  {
   "cell_type": "markdown",
   "metadata": {},
   "source": [
    "### In `apiso:AnyText`"
   ]
  },
  {
   "cell_type": "code",
   "execution_count": 22,
   "metadata": {
    "collapsed": true
   },
   "outputs": [],
   "source": [
    "kw['propertyname'] = 'apiso:AnyText'\n",
    "filt_nanoos = fes.PropertyIsLike(literal=('*%s*' % 'NANOOS'), **kw)\n",
    "\n",
    "filter_list = [filt_nanoos]"
   ]
  },
  {
   "cell_type": "code",
   "execution_count": 23,
   "metadata": {
    "collapsed": false
   },
   "outputs": [
    {
     "name": "stdout",
     "output_type": "stream",
     "text": [
      "********************* Catalog information **********************\n",
      "CSW version: 2.0.2\n",
      "Number of datasets available: 4\n"
     ]
    },
    {
     "data": {
      "text/plain": [
       "['NANOOS Sensor Observation Service (SOS), a 52North IOOS SOS server',\n",
       " '{725A8A9B-1937-4DBF-ADF4-F6405543DC70}',\n",
       " 'org.nanoos:OCOS_latest_aggregation',\n",
       " 'UCSC']"
      ]
     },
     "execution_count": 23,
     "metadata": {},
     "output_type": "execute_result"
    }
   ],
   "source": [
    "csw = run_ngdc_csw(filter_list)\n",
    "csw.records.keys()"
   ]
  }
 ],
 "metadata": {
  "kernelspec": {
   "display_name": "Python 2",
   "language": "python",
   "name": "python2"
  },
  "language_info": {
   "codemirror_mode": {
    "name": "ipython",
    "version": 2
   },
   "file_extension": ".py",
   "mimetype": "text/x-python",
   "name": "python",
   "nbconvert_exporter": "python",
   "pygments_lexer": "ipython2",
   "version": "2.7.11"
  }
 },
 "nbformat": 4,
 "nbformat_minor": 0
}
