{
 "cells": [
  {
   "cell_type": "markdown",
   "metadata": {},
   "source": [
    "# Examples: GeoPandas Spatial Joins\n",
    "A *spatial join* uses [binary predicates](http://toblerity.org/shapely/manual.html#binary-predicates) such as `intersects` and `crosses` to combine two `GeoDataFrames` based on the  spatial relationship between their geometries.\n",
    "\n",
    "A common use case might be a spatial join between a point layer and a polygon layer where you want to retain the point geometries and grab the attributes of the intersecting polygons.\n",
    "\n",
    "-------------------------------------------------------\n",
    "*From https://github.com/geopandas/geopandas/blob/master/examples/spatial_joins.ipynb. Re-ran and tweaked by [Emilio Mayorga](https://github.com/emiliom), 12/10/2015, on my geopandas conda environment.*"
   ]
  },
  {
   "cell_type": "code",
   "execution_count": 1,
   "metadata": {
    "collapsed": false
   },
   "outputs": [
    {
     "data": {
      "text/html": [
       "<img src=\"https://dl.dropboxusercontent.com/u/6769420/sjoin_test.png\"/>"
      ],
      "text/plain": [
       "<IPython.core.display.Image object>"
      ]
     },
     "execution_count": 1,
     "metadata": {},
     "output_type": "execute_result"
    }
   ],
   "source": [
    "from IPython.core.display import Image \n",
    "Image(url=\"https://dl.dropboxusercontent.com/u/6769420/sjoin_test.png\")"
   ]
  },
  {
   "cell_type": "markdown",
   "metadata": {},
   "source": [
    "\n",
    "## Types of spatial joins\n",
    "\n",
    "We currently support the following methods of spatial joins. We refer to the *left_df* and *right_df* which are the correspond to the two dataframes passed in as args.\n",
    "\n",
    "### Left outer join\n",
    "\n",
    "In a LEFT OUTER JOIN (`how='left'`), we keep *all* rows from the left and duplicate them if necessary to represent multiple hits between the two dataframes. We retain attributes of the right if they intersect and lose right rows that don't intersect. A left outer join implies that we are interested in retaining the geometries of the left. \n",
    "\n",
    "This is equivalent to the PostGIS query:\n",
    "```\n",
    "SELECT pts.geom, pts.id as ptid, polys.id as polyid  \n",
    "FROM pts\n",
    "LEFT OUTER JOIN polys\n",
    "ON ST_Intersects(pts.geom, polys.geom);\n",
    "\n",
    "                    geom                    | ptid | polyid \n",
    "--------------------------------------------+------+--------\n",
    " 010100000040A9FBF2D88AD03F349CD47D796CE9BF |    4 |     10\n",
    " 010100000048EABE3CB622D8BFA8FBF2D88AA0E9BF |    3 |     10\n",
    " 010100000048EABE3CB622D8BFA8FBF2D88AA0E9BF |    3 |     20\n",
    " 0101000000F0D88AA0E1A4EEBF7052F7E5B115E9BF |    2 |     20\n",
    " 0101000000818693BA2F8FF7BF4ADD97C75604E9BF |    1 |       \n",
    "(5 rows)\n",
    "```\n",
    "\n",
    "### Right outer join\n",
    "\n",
    "In a RIGHT OUTER JOIN (`how='right'`), we keep *all* rows from the right and duplicate them if necessary to represent multiple hits between the two dataframes. We retain attributes of the left if they intersect and lose left rows that don't intersect. A right outer join implies that we are interested in retaining the geometries of the right. \n",
    "\n",
    "This is equivalent to the PostGIS query:\n",
    "```\n",
    "SELECT polys.geom, pts.id as ptid, polys.id as polyid  \n",
    "FROM pts\n",
    "RIGHT OUTER JOIN polys\n",
    "ON ST_Intersects(pts.geom, polys.geom);\n",
    "\n",
    "  geom    | ptid | polyid \n",
    "----------+------+--------\n",
    " 01...9BF |    4 |     10\n",
    " 01...9BF |    3 |     10\n",
    " 02...7BF |    3 |     20\n",
    " 02...7BF |    2 |     20\n",
    " 00...5BF |      |     30\n",
    "(5 rows)\n",
    "```\n",
    "\n",
    "### Inner join\n",
    "\n",
    "In an INNER JOIN (`how='inner'`), we keep rows from the right and left only where their binary predicate is `True`. We duplicate them if necessary to represent multiple hits between the two dataframes. We retain attributes of the right and left only if they intersect and lose all rows that do not. An inner join implies that we are interested in retaining the geometries of the left. \n",
    "\n",
    "This is equivalent to the PostGIS query:\n",
    "```\n",
    "SELECT pts.geom, pts.id as ptid, polys.id as polyid  \n",
    "FROM pts\n",
    "INNER JOIN polys\n",
    "ON ST_Intersects(pts.geom, polys.geom);\n",
    "\n",
    "                    geom                    | ptid | polyid \n",
    "--------------------------------------------+------+--------\n",
    " 010100000040A9FBF2D88AD03F349CD47D796CE9BF |    4 |     10\n",
    " 010100000048EABE3CB622D8BFA8FBF2D88AA0E9BF |    3 |     10\n",
    " 010100000048EABE3CB622D8BFA8FBF2D88AA0E9BF |    3 |     20\n",
    " 0101000000F0D88AA0E1A4EEBF7052F7E5B115E9BF |    2 |     20\n",
    "(4 rows) \n",
    "```"
   ]
  },
  {
   "cell_type": "markdown",
   "metadata": {},
   "source": [
    "## Spatial Joins between two GeoDataFrames\n",
    "\n",
    "Let's take a look at how we'd implement these using `GeoPandas`. First, load up the NYC test data into `GeoDataFrames`:"
   ]
  },
  {
   "cell_type": "markdown",
   "metadata": {},
   "source": [
    "Downloaded sample NYC Boroughs shape file from http://www.nyc.gov/html/dcp/download/bytes/nybb_14aav.zip"
   ]
  },
  {
   "cell_type": "code",
   "execution_count": 2,
   "metadata": {
    "collapsed": false
   },
   "outputs": [],
   "source": [
    "%matplotlib inline\n",
    "import os\n",
    "from shapely.geometry import Point\n",
    "from geopandas import GeoDataFrame, read_file\n",
    "from geopandas.tools import overlay, sjoin\n",
    "\n",
    "# NYC Boros\n",
    "#zippath = os.path.abspath('../examples/nybb_14aav.zip')\n",
    "zippath = os.path.abspath('/home/mayorga/Desktop/MySciPythonApps/nybb_14aav.zip')\n",
    "polydf = read_file('/nybb_14a_av/nybb.shp', vfs='zip://' + zippath)\n",
    "\n",
    "# Generate some points\n",
    "b = [int(x) for x in polydf.total_bounds]\n",
    "N = 8\n",
    "pointdf = GeoDataFrame([\n",
    "    {'geometry' : Point(x, y), 'value1': x + y, 'value2': x - y}\n",
    "    for x, y in zip(range(b[0], b[2], int((b[2]-b[0])/N)),\n",
    "                    range(b[1], b[3], int((b[3]-b[1])/N)))])"
   ]
  },
  {
   "cell_type": "code",
   "execution_count": 3,
   "metadata": {
    "collapsed": false
   },
   "outputs": [
    {
     "data": {
      "text/html": [
       "<div>\n",
       "<table border=\"1\" class=\"dataframe\">\n",
       "  <thead>\n",
       "    <tr style=\"text-align: right;\">\n",
       "      <th></th>\n",
       "      <th>geometry</th>\n",
       "      <th>value1</th>\n",
       "      <th>value2</th>\n",
       "    </tr>\n",
       "  </thead>\n",
       "  <tbody>\n",
       "    <tr>\n",
       "      <th>0</th>\n",
       "      <td>POINT (913175 120121)</td>\n",
       "      <td>1033296</td>\n",
       "      <td>793054</td>\n",
       "    </tr>\n",
       "    <tr>\n",
       "      <th>1</th>\n",
       "      <td>POINT (932450 139211)</td>\n",
       "      <td>1071661</td>\n",
       "      <td>793239</td>\n",
       "    </tr>\n",
       "    <tr>\n",
       "      <th>2</th>\n",
       "      <td>POINT (951725 158301)</td>\n",
       "      <td>1110026</td>\n",
       "      <td>793424</td>\n",
       "    </tr>\n",
       "    <tr>\n",
       "      <th>3</th>\n",
       "      <td>POINT (971000 177391)</td>\n",
       "      <td>1148391</td>\n",
       "      <td>793609</td>\n",
       "    </tr>\n",
       "    <tr>\n",
       "      <th>4</th>\n",
       "      <td>POINT (990275 196481)</td>\n",
       "      <td>1186756</td>\n",
       "      <td>793794</td>\n",
       "    </tr>\n",
       "    <tr>\n",
       "      <th>5</th>\n",
       "      <td>POINT (1009550 215571)</td>\n",
       "      <td>1225121</td>\n",
       "      <td>793979</td>\n",
       "    </tr>\n",
       "    <tr>\n",
       "      <th>6</th>\n",
       "      <td>POINT (1028825 234661)</td>\n",
       "      <td>1263486</td>\n",
       "      <td>794164</td>\n",
       "    </tr>\n",
       "    <tr>\n",
       "      <th>7</th>\n",
       "      <td>POINT (1048100 253751)</td>\n",
       "      <td>1301851</td>\n",
       "      <td>794349</td>\n",
       "    </tr>\n",
       "    <tr>\n",
       "      <th>8</th>\n",
       "      <td>POINT (1067375 272841)</td>\n",
       "      <td>1340216</td>\n",
       "      <td>794534</td>\n",
       "    </tr>\n",
       "  </tbody>\n",
       "</table>\n",
       "</div>"
      ],
      "text/plain": [
       "                 geometry   value1  value2\n",
       "0   POINT (913175 120121)  1033296  793054\n",
       "1   POINT (932450 139211)  1071661  793239\n",
       "2   POINT (951725 158301)  1110026  793424\n",
       "3   POINT (971000 177391)  1148391  793609\n",
       "4   POINT (990275 196481)  1186756  793794\n",
       "5  POINT (1009550 215571)  1225121  793979\n",
       "6  POINT (1028825 234661)  1263486  794164\n",
       "7  POINT (1048100 253751)  1301851  794349\n",
       "8  POINT (1067375 272841)  1340216  794534"
      ]
     },
     "execution_count": 3,
     "metadata": {},
     "output_type": "execute_result"
    }
   ],
   "source": [
    "pointdf"
   ]
  },
  {
   "cell_type": "code",
   "execution_count": 4,
   "metadata": {
    "collapsed": false
   },
   "outputs": [
    {
     "data": {
      "image/png": "[encoded data removed]",
      "text/plain": [
       "<matplotlib.figure.Figure at 0x7f1e3c3ef710>"
      ]
     },
     "metadata": {},
     "output_type": "display_data"
    }
   ],
   "source": [
    "pointdf.plot();"
   ]
  },
  {
   "cell_type": "code",
   "execution_count": 5,
   "metadata": {
    "collapsed": false
   },
   "outputs": [
    {
     "data": {
      "text/html": [
       "<div>\n",
       "<table border=\"1\" class=\"dataframe\">\n",
       "  <thead>\n",
       "    <tr style=\"text-align: right;\">\n",
       "      <th></th>\n",
       "      <th>BoroCode</th>\n",
       "      <th>BoroName</th>\n",
       "      <th>Shape_Area</th>\n",
       "      <th>Shape_Leng</th>\n",
       "      <th>geometry</th>\n",
       "    </tr>\n",
       "  </thead>\n",
       "  <tbody>\n",
       "    <tr>\n",
       "      <th>0</th>\n",
       "      <td>5</td>\n",
       "      <td>Staten Island</td>\n",
       "      <td>1.623847e+09</td>\n",
       "      <td>330454.175933</td>\n",
       "      <td>(POLYGON ((970217.0223999023 145643.3322143555...</td>\n",
       "    </tr>\n",
       "    <tr>\n",
       "      <th>1</th>\n",
       "      <td>3</td>\n",
       "      <td>Brooklyn</td>\n",
       "      <td>1.937810e+09</td>\n",
       "      <td>741227.337073</td>\n",
       "      <td>(POLYGON ((1021176.479003906 151374.7969970703...</td>\n",
       "    </tr>\n",
       "    <tr>\n",
       "      <th>2</th>\n",
       "      <td>4</td>\n",
       "      <td>Queens</td>\n",
       "      <td>3.045079e+09</td>\n",
       "      <td>896875.396449</td>\n",
       "      <td>(POLYGON ((1029606.076599121 156073.8142089844...</td>\n",
       "    </tr>\n",
       "    <tr>\n",
       "      <th>3</th>\n",
       "      <td>1</td>\n",
       "      <td>Manhattan</td>\n",
       "      <td>6.364308e+08</td>\n",
       "      <td>358400.912836</td>\n",
       "      <td>(POLYGON ((981219.0557861328 188655.3157958984...</td>\n",
       "    </tr>\n",
       "    <tr>\n",
       "      <th>4</th>\n",
       "      <td>2</td>\n",
       "      <td>Bronx</td>\n",
       "      <td>1.186822e+09</td>\n",
       "      <td>464475.145651</td>\n",
       "      <td>(POLYGON ((1012821.805786133 229228.2645874023...</td>\n",
       "    </tr>\n",
       "  </tbody>\n",
       "</table>\n",
       "</div>"
      ],
      "text/plain": [
       "   BoroCode       BoroName    Shape_Area     Shape_Leng  \\\n",
       "0         5  Staten Island  1.623847e+09  330454.175933   \n",
       "1         3       Brooklyn  1.937810e+09  741227.337073   \n",
       "2         4         Queens  3.045079e+09  896875.396449   \n",
       "3         1      Manhattan  6.364308e+08  358400.912836   \n",
       "4         2          Bronx  1.186822e+09  464475.145651   \n",
       "\n",
       "                                            geometry  \n",
       "0  (POLYGON ((970217.0223999023 145643.3322143555...  \n",
       "1  (POLYGON ((1021176.479003906 151374.7969970703...  \n",
       "2  (POLYGON ((1029606.076599121 156073.8142089844...  \n",
       "3  (POLYGON ((981219.0557861328 188655.3157958984...  \n",
       "4  (POLYGON ((1012821.805786133 229228.2645874023...  "
      ]
     },
     "execution_count": 5,
     "metadata": {},
     "output_type": "execute_result"
    }
   ],
   "source": [
    "polydf"
   ]
  },
  {
   "cell_type": "code",
   "execution_count": 6,
   "metadata": {
    "collapsed": false
   },
   "outputs": [
    {
     "data": {
      "image/png": "[encoded data removed]",
      "text/plain": [
       "<matplotlib.figure.Figure at 0x7f1e106dae90>"
      ]
     },
     "metadata": {},
     "output_type": "display_data"
    }
   ],
   "source": [
    "polydf.plot();"
   ]
  },
  {
   "cell_type": "markdown",
   "metadata": {},
   "source": [
    "## Joins"
   ]
  },
  {
   "cell_type": "code",
   "execution_count": 7,
   "metadata": {
    "collapsed": false
   },
   "outputs": [
    {
     "name": "stdout",
     "output_type": "stream",
     "text": [
      "Warning: CRS does not match!\n"
     ]
    },
    {
     "data": {
      "text/html": [
       "<div>\n",
       "<table border=\"1\" class=\"dataframe\">\n",
       "  <thead>\n",
       "    <tr style=\"text-align: right;\">\n",
       "      <th></th>\n",
       "      <th>geometry</th>\n",
       "      <th>value1</th>\n",
       "      <th>value2</th>\n",
       "      <th>index_right</th>\n",
       "      <th>BoroCode</th>\n",
       "      <th>BoroName</th>\n",
       "      <th>Shape_Area</th>\n",
       "      <th>Shape_Leng</th>\n",
       "    </tr>\n",
       "  </thead>\n",
       "  <tbody>\n",
       "    <tr>\n",
       "      <th>0</th>\n",
       "      <td>POINT (913175 120121)</td>\n",
       "      <td>1033296</td>\n",
       "      <td>793054</td>\n",
       "      <td>NaN</td>\n",
       "      <td>NaN</td>\n",
       "      <td>NaN</td>\n",
       "      <td>NaN</td>\n",
       "      <td>NaN</td>\n",
       "    </tr>\n",
       "    <tr>\n",
       "      <th>1</th>\n",
       "      <td>POINT (932450 139211)</td>\n",
       "      <td>1071661</td>\n",
       "      <td>793239</td>\n",
       "      <td>0</td>\n",
       "      <td>5</td>\n",
       "      <td>Staten Island</td>\n",
       "      <td>1.623847e+09</td>\n",
       "      <td>330454.175933</td>\n",
       "    </tr>\n",
       "    <tr>\n",
       "      <th>2</th>\n",
       "      <td>POINT (951725 158301)</td>\n",
       "      <td>1110026</td>\n",
       "      <td>793424</td>\n",
       "      <td>0</td>\n",
       "      <td>5</td>\n",
       "      <td>Staten Island</td>\n",
       "      <td>1.623847e+09</td>\n",
       "      <td>330454.175933</td>\n",
       "    </tr>\n",
       "    <tr>\n",
       "      <th>3</th>\n",
       "      <td>POINT (971000 177391)</td>\n",
       "      <td>1148391</td>\n",
       "      <td>793609</td>\n",
       "      <td>NaN</td>\n",
       "      <td>NaN</td>\n",
       "      <td>NaN</td>\n",
       "      <td>NaN</td>\n",
       "      <td>NaN</td>\n",
       "    </tr>\n",
       "    <tr>\n",
       "      <th>4</th>\n",
       "      <td>POINT (990275 196481)</td>\n",
       "      <td>1186756</td>\n",
       "      <td>793794</td>\n",
       "      <td>NaN</td>\n",
       "      <td>NaN</td>\n",
       "      <td>NaN</td>\n",
       "      <td>NaN</td>\n",
       "      <td>NaN</td>\n",
       "    </tr>\n",
       "    <tr>\n",
       "      <th>5</th>\n",
       "      <td>POINT (1009550 215571)</td>\n",
       "      <td>1225121</td>\n",
       "      <td>793979</td>\n",
       "      <td>2</td>\n",
       "      <td>4</td>\n",
       "      <td>Queens</td>\n",
       "      <td>3.045079e+09</td>\n",
       "      <td>896875.396449</td>\n",
       "    </tr>\n",
       "    <tr>\n",
       "      <th>6</th>\n",
       "      <td>POINT (1028825 234661)</td>\n",
       "      <td>1263486</td>\n",
       "      <td>794164</td>\n",
       "      <td>4</td>\n",
       "      <td>2</td>\n",
       "      <td>Bronx</td>\n",
       "      <td>1.186822e+09</td>\n",
       "      <td>464475.145651</td>\n",
       "    </tr>\n",
       "    <tr>\n",
       "      <th>7</th>\n",
       "      <td>POINT (1048100 253751)</td>\n",
       "      <td>1301851</td>\n",
       "      <td>794349</td>\n",
       "      <td>NaN</td>\n",
       "      <td>NaN</td>\n",
       "      <td>NaN</td>\n",
       "      <td>NaN</td>\n",
       "      <td>NaN</td>\n",
       "    </tr>\n",
       "    <tr>\n",
       "      <th>8</th>\n",
       "      <td>POINT (1067375 272841)</td>\n",
       "      <td>1340216</td>\n",
       "      <td>794534</td>\n",
       "      <td>NaN</td>\n",
       "      <td>NaN</td>\n",
       "      <td>NaN</td>\n",
       "      <td>NaN</td>\n",
       "      <td>NaN</td>\n",
       "    </tr>\n",
       "  </tbody>\n",
       "</table>\n",
       "</div>"
      ],
      "text/plain": [
       "                 geometry   value1  value2  index_right  BoroCode  \\\n",
       "0   POINT (913175 120121)  1033296  793054          NaN       NaN   \n",
       "1   POINT (932450 139211)  1071661  793239            0         5   \n",
       "2   POINT (951725 158301)  1110026  793424            0         5   \n",
       "3   POINT (971000 177391)  1148391  793609          NaN       NaN   \n",
       "4   POINT (990275 196481)  1186756  793794          NaN       NaN   \n",
       "5  POINT (1009550 215571)  1225121  793979            2         4   \n",
       "6  POINT (1028825 234661)  1263486  794164            4         2   \n",
       "7  POINT (1048100 253751)  1301851  794349          NaN       NaN   \n",
       "8  POINT (1067375 272841)  1340216  794534          NaN       NaN   \n",
       "\n",
       "        BoroName    Shape_Area     Shape_Leng  \n",
       "0            NaN           NaN            NaN  \n",
       "1  Staten Island  1.623847e+09  330454.175933  \n",
       "2  Staten Island  1.623847e+09  330454.175933  \n",
       "3            NaN           NaN            NaN  \n",
       "4            NaN           NaN            NaN  \n",
       "5         Queens  3.045079e+09  896875.396449  \n",
       "6          Bronx  1.186822e+09  464475.145651  \n",
       "7            NaN           NaN            NaN  \n",
       "8            NaN           NaN            NaN  "
      ]
     },
     "execution_count": 7,
     "metadata": {},
     "output_type": "execute_result"
    }
   ],
   "source": [
    "join_left_df = sjoin(pointdf, polydf, how=\"left\")\n",
    "join_left_df\n",
    "# Note the NaNs where the point did not intersect a boro"
   ]
  },
  {
   "cell_type": "code",
   "execution_count": 8,
   "metadata": {
    "collapsed": false
   },
   "outputs": [
    {
     "data": {
      "image/png": "[encoded data removed]",
      "text/plain": [
       "<matplotlib.figure.Figure at 0x7f1e1047fc10>"
      ]
     },
     "metadata": {},
     "output_type": "display_data"
    }
   ],
   "source": [
    "join_left_df.plot();"
   ]
  },
  {
   "cell_type": "code",
   "execution_count": 9,
   "metadata": {
    "collapsed": false
   },
   "outputs": [
    {
     "name": "stdout",
     "output_type": "stream",
     "text": [
      "Warning: CRS does not match!\n"
     ]
    },
    {
     "data": {
      "text/html": [
       "<div>\n",
       "<table border=\"1\" class=\"dataframe\">\n",
       "  <thead>\n",
       "    <tr style=\"text-align: right;\">\n",
       "      <th></th>\n",
       "      <th>value1</th>\n",
       "      <th>value2</th>\n",
       "      <th>index_left</th>\n",
       "      <th>BoroCode</th>\n",
       "      <th>BoroName</th>\n",
       "      <th>Shape_Area</th>\n",
       "      <th>Shape_Leng</th>\n",
       "      <th>geometry</th>\n",
       "    </tr>\n",
       "    <tr>\n",
       "      <th>index_right</th>\n",
       "      <th></th>\n",
       "      <th></th>\n",
       "      <th></th>\n",
       "      <th></th>\n",
       "      <th></th>\n",
       "      <th></th>\n",
       "      <th></th>\n",
       "      <th></th>\n",
       "    </tr>\n",
       "  </thead>\n",
       "  <tbody>\n",
       "    <tr>\n",
       "      <th>0</th>\n",
       "      <td>1071661</td>\n",
       "      <td>793239</td>\n",
       "      <td>1</td>\n",
       "      <td>5</td>\n",
       "      <td>Staten Island</td>\n",
       "      <td>1.623847e+09</td>\n",
       "      <td>330454.175933</td>\n",
       "      <td>(POLYGON ((970217.0223999023 145643.3322143555...</td>\n",
       "    </tr>\n",
       "    <tr>\n",
       "      <th>0</th>\n",
       "      <td>1110026</td>\n",
       "      <td>793424</td>\n",
       "      <td>2</td>\n",
       "      <td>5</td>\n",
       "      <td>Staten Island</td>\n",
       "      <td>1.623847e+09</td>\n",
       "      <td>330454.175933</td>\n",
       "      <td>(POLYGON ((970217.0223999023 145643.3322143555...</td>\n",
       "    </tr>\n",
       "    <tr>\n",
       "      <th>2</th>\n",
       "      <td>1225121</td>\n",
       "      <td>793979</td>\n",
       "      <td>5</td>\n",
       "      <td>4</td>\n",
       "      <td>Queens</td>\n",
       "      <td>3.045079e+09</td>\n",
       "      <td>896875.396449</td>\n",
       "      <td>(POLYGON ((1029606.076599121 156073.8142089844...</td>\n",
       "    </tr>\n",
       "    <tr>\n",
       "      <th>4</th>\n",
       "      <td>1263486</td>\n",
       "      <td>794164</td>\n",
       "      <td>6</td>\n",
       "      <td>2</td>\n",
       "      <td>Bronx</td>\n",
       "      <td>1.186822e+09</td>\n",
       "      <td>464475.145651</td>\n",
       "      <td>(POLYGON ((1012821.805786133 229228.2645874023...</td>\n",
       "    </tr>\n",
       "    <tr>\n",
       "      <th>1</th>\n",
       "      <td>NaN</td>\n",
       "      <td>NaN</td>\n",
       "      <td>NaN</td>\n",
       "      <td>3</td>\n",
       "      <td>Brooklyn</td>\n",
       "      <td>1.937810e+09</td>\n",
       "      <td>741227.337073</td>\n",
       "      <td>(POLYGON ((1021176.479003906 151374.7969970703...</td>\n",
       "    </tr>\n",
       "    <tr>\n",
       "      <th>3</th>\n",
       "      <td>NaN</td>\n",
       "      <td>NaN</td>\n",
       "      <td>NaN</td>\n",
       "      <td>1</td>\n",
       "      <td>Manhattan</td>\n",
       "      <td>6.364308e+08</td>\n",
       "      <td>358400.912836</td>\n",
       "      <td>(POLYGON ((981219.0557861328 188655.3157958984...</td>\n",
       "    </tr>\n",
       "  </tbody>\n",
       "</table>\n",
       "</div>"
      ],
      "text/plain": [
       "              value1  value2  index_left  BoroCode       BoroName  \\\n",
       "index_right                                                         \n",
       "0            1071661  793239           1         5  Staten Island   \n",
       "0            1110026  793424           2         5  Staten Island   \n",
       "2            1225121  793979           5         4         Queens   \n",
       "4            1263486  794164           6         2          Bronx   \n",
       "1                NaN     NaN         NaN         3       Brooklyn   \n",
       "3                NaN     NaN         NaN         1      Manhattan   \n",
       "\n",
       "               Shape_Area     Shape_Leng  \\\n",
       "index_right                                \n",
       "0            1.623847e+09  330454.175933   \n",
       "0            1.623847e+09  330454.175933   \n",
       "2            3.045079e+09  896875.396449   \n",
       "4            1.186822e+09  464475.145651   \n",
       "1            1.937810e+09  741227.337073   \n",
       "3            6.364308e+08  358400.912836   \n",
       "\n",
       "                                                      geometry  \n",
       "index_right                                                     \n",
       "0            (POLYGON ((970217.0223999023 145643.3322143555...  \n",
       "0            (POLYGON ((970217.0223999023 145643.3322143555...  \n",
       "2            (POLYGON ((1029606.076599121 156073.8142089844...  \n",
       "4            (POLYGON ((1012821.805786133 229228.2645874023...  \n",
       "1            (POLYGON ((1021176.479003906 151374.7969970703...  \n",
       "3            (POLYGON ((981219.0557861328 188655.3157958984...  "
      ]
     },
     "execution_count": 9,
     "metadata": {},
     "output_type": "execute_result"
    }
   ],
   "source": [
    "join_right_df = sjoin(pointdf, polydf, how=\"right\")\n",
    "join_right_df\n",
    "# Note Staten Island is repeated"
   ]
  },
  {
   "cell_type": "code",
   "execution_count": 10,
   "metadata": {
    "collapsed": false
   },
   "outputs": [
    {
     "data": {
      "image/png": "[encoded data removed]",
      "text/plain": [
       "<matplotlib.figure.Figure at 0x7f1e108242d0>"
      ]
     },
     "metadata": {},
     "output_type": "display_data"
    }
   ],
   "source": [
    "join_right_df.plot();"
   ]
  },
  {
   "cell_type": "code",
   "execution_count": 11,
   "metadata": {
    "collapsed": false
   },
   "outputs": [
    {
     "name": "stdout",
     "output_type": "stream",
     "text": [
      "Warning: CRS does not match!\n"
     ]
    },
    {
     "data": {
      "text/html": [
       "<div>\n",
       "<table border=\"1\" class=\"dataframe\">\n",
       "  <thead>\n",
       "    <tr style=\"text-align: right;\">\n",
       "      <th></th>\n",
       "      <th>geometry</th>\n",
       "      <th>value1</th>\n",
       "      <th>value2</th>\n",
       "      <th>index_right</th>\n",
       "      <th>BoroCode</th>\n",
       "      <th>BoroName</th>\n",
       "      <th>Shape_Area</th>\n",
       "      <th>Shape_Leng</th>\n",
       "    </tr>\n",
       "  </thead>\n",
       "  <tbody>\n",
       "    <tr>\n",
       "      <th>1</th>\n",
       "      <td>POINT (932450 139211)</td>\n",
       "      <td>1071661</td>\n",
       "      <td>793239</td>\n",
       "      <td>0</td>\n",
       "      <td>5</td>\n",
       "      <td>Staten Island</td>\n",
       "      <td>1.623847e+09</td>\n",
       "      <td>330454.175933</td>\n",
       "    </tr>\n",
       "    <tr>\n",
       "      <th>2</th>\n",
       "      <td>POINT (951725 158301)</td>\n",
       "      <td>1110026</td>\n",
       "      <td>793424</td>\n",
       "      <td>0</td>\n",
       "      <td>5</td>\n",
       "      <td>Staten Island</td>\n",
       "      <td>1.623847e+09</td>\n",
       "      <td>330454.175933</td>\n",
       "    </tr>\n",
       "    <tr>\n",
       "      <th>5</th>\n",
       "      <td>POINT (1009550 215571)</td>\n",
       "      <td>1225121</td>\n",
       "      <td>793979</td>\n",
       "      <td>2</td>\n",
       "      <td>4</td>\n",
       "      <td>Queens</td>\n",
       "      <td>3.045079e+09</td>\n",
       "      <td>896875.396449</td>\n",
       "    </tr>\n",
       "    <tr>\n",
       "      <th>6</th>\n",
       "      <td>POINT (1028825 234661)</td>\n",
       "      <td>1263486</td>\n",
       "      <td>794164</td>\n",
       "      <td>4</td>\n",
       "      <td>2</td>\n",
       "      <td>Bronx</td>\n",
       "      <td>1.186822e+09</td>\n",
       "      <td>464475.145651</td>\n",
       "    </tr>\n",
       "  </tbody>\n",
       "</table>\n",
       "</div>"
      ],
      "text/plain": [
       "                 geometry   value1  value2  index_right  BoroCode  \\\n",
       "1   POINT (932450 139211)  1071661  793239            0         5   \n",
       "2   POINT (951725 158301)  1110026  793424            0         5   \n",
       "5  POINT (1009550 215571)  1225121  793979            2         4   \n",
       "6  POINT (1028825 234661)  1263486  794164            4         2   \n",
       "\n",
       "        BoroName    Shape_Area     Shape_Leng  \n",
       "1  Staten Island  1.623847e+09  330454.175933  \n",
       "2  Staten Island  1.623847e+09  330454.175933  \n",
       "5         Queens  3.045079e+09  896875.396449  \n",
       "6          Bronx  1.186822e+09  464475.145651  "
      ]
     },
     "execution_count": 11,
     "metadata": {},
     "output_type": "execute_result"
    }
   ],
   "source": [
    "join_inner_df = sjoin(pointdf, polydf, how=\"inner\")\n",
    "join_inner_df\n",
    "# Note the lack of NaNs; dropped anything that didn't intersect"
   ]
  },
  {
   "cell_type": "code",
   "execution_count": 12,
   "metadata": {
    "collapsed": false
   },
   "outputs": [
    {
     "data": {
      "image/png": "[encoded data removed]",
      "text/plain": [
       "<matplotlib.figure.Figure at 0x7f1e0ddf6b10>"
      ]
     },
     "metadata": {},
     "output_type": "display_data"
    }
   ],
   "source": [
    "join_inner_df.plot();"
   ]
  },
  {
   "cell_type": "markdown",
   "metadata": {},
   "source": [
    "We're not limited to using the `intersection` binary predicate. Any of the `Shapely` geometry methods that return a Boolean can be used by specifying the `op` kwarg."
   ]
  },
  {
   "cell_type": "code",
   "execution_count": 13,
   "metadata": {
    "collapsed": false
   },
   "outputs": [
    {
     "name": "stdout",
     "output_type": "stream",
     "text": [
      "Warning: CRS does not match!\n"
     ]
    },
    {
     "data": {
      "text/html": [
       "<div>\n",
       "<table border=\"1\" class=\"dataframe\">\n",
       "  <thead>\n",
       "    <tr style=\"text-align: right;\">\n",
       "      <th></th>\n",
       "      <th>geometry</th>\n",
       "      <th>value1</th>\n",
       "      <th>value2</th>\n",
       "      <th>index_right</th>\n",
       "      <th>BoroCode</th>\n",
       "      <th>BoroName</th>\n",
       "      <th>Shape_Area</th>\n",
       "      <th>Shape_Leng</th>\n",
       "    </tr>\n",
       "  </thead>\n",
       "  <tbody>\n",
       "    <tr>\n",
       "      <th>0</th>\n",
       "      <td>POINT (913175 120121)</td>\n",
       "      <td>1033296</td>\n",
       "      <td>793054</td>\n",
       "      <td>NaN</td>\n",
       "      <td>NaN</td>\n",
       "      <td>NaN</td>\n",
       "      <td>NaN</td>\n",
       "      <td>NaN</td>\n",
       "    </tr>\n",
       "    <tr>\n",
       "      <th>1</th>\n",
       "      <td>POINT (932450 139211)</td>\n",
       "      <td>1071661</td>\n",
       "      <td>793239</td>\n",
       "      <td>0</td>\n",
       "      <td>5</td>\n",
       "      <td>Staten Island</td>\n",
       "      <td>1.623847e+09</td>\n",
       "      <td>330454.175933</td>\n",
       "    </tr>\n",
       "    <tr>\n",
       "      <th>2</th>\n",
       "      <td>POINT (951725 158301)</td>\n",
       "      <td>1110026</td>\n",
       "      <td>793424</td>\n",
       "      <td>0</td>\n",
       "      <td>5</td>\n",
       "      <td>Staten Island</td>\n",
       "      <td>1.623847e+09</td>\n",
       "      <td>330454.175933</td>\n",
       "    </tr>\n",
       "    <tr>\n",
       "      <th>3</th>\n",
       "      <td>POINT (971000 177391)</td>\n",
       "      <td>1148391</td>\n",
       "      <td>793609</td>\n",
       "      <td>NaN</td>\n",
       "      <td>NaN</td>\n",
       "      <td>NaN</td>\n",
       "      <td>NaN</td>\n",
       "      <td>NaN</td>\n",
       "    </tr>\n",
       "    <tr>\n",
       "      <th>4</th>\n",
       "      <td>POINT (990275 196481)</td>\n",
       "      <td>1186756</td>\n",
       "      <td>793794</td>\n",
       "      <td>NaN</td>\n",
       "      <td>NaN</td>\n",
       "      <td>NaN</td>\n",
       "      <td>NaN</td>\n",
       "      <td>NaN</td>\n",
       "    </tr>\n",
       "    <tr>\n",
       "      <th>5</th>\n",
       "      <td>POINT (1009550 215571)</td>\n",
       "      <td>1225121</td>\n",
       "      <td>793979</td>\n",
       "      <td>2</td>\n",
       "      <td>4</td>\n",
       "      <td>Queens</td>\n",
       "      <td>3.045079e+09</td>\n",
       "      <td>896875.396449</td>\n",
       "    </tr>\n",
       "    <tr>\n",
       "      <th>6</th>\n",
       "      <td>POINT (1028825 234661)</td>\n",
       "      <td>1263486</td>\n",
       "      <td>794164</td>\n",
       "      <td>4</td>\n",
       "      <td>2</td>\n",
       "      <td>Bronx</td>\n",
       "      <td>1.186822e+09</td>\n",
       "      <td>464475.145651</td>\n",
       "    </tr>\n",
       "    <tr>\n",
       "      <th>7</th>\n",
       "      <td>POINT (1048100 253751)</td>\n",
       "      <td>1301851</td>\n",
       "      <td>794349</td>\n",
       "      <td>NaN</td>\n",
       "      <td>NaN</td>\n",
       "      <td>NaN</td>\n",
       "      <td>NaN</td>\n",
       "      <td>NaN</td>\n",
       "    </tr>\n",
       "    <tr>\n",
       "      <th>8</th>\n",
       "      <td>POINT (1067375 272841)</td>\n",
       "      <td>1340216</td>\n",
       "      <td>794534</td>\n",
       "      <td>NaN</td>\n",
       "      <td>NaN</td>\n",
       "      <td>NaN</td>\n",
       "      <td>NaN</td>\n",
       "      <td>NaN</td>\n",
       "    </tr>\n",
       "  </tbody>\n",
       "</table>\n",
       "</div>"
      ],
      "text/plain": [
       "                 geometry   value1  value2  index_right  BoroCode  \\\n",
       "0   POINT (913175 120121)  1033296  793054          NaN       NaN   \n",
       "1   POINT (932450 139211)  1071661  793239            0         5   \n",
       "2   POINT (951725 158301)  1110026  793424            0         5   \n",
       "3   POINT (971000 177391)  1148391  793609          NaN       NaN   \n",
       "4   POINT (990275 196481)  1186756  793794          NaN       NaN   \n",
       "5  POINT (1009550 215571)  1225121  793979            2         4   \n",
       "6  POINT (1028825 234661)  1263486  794164            4         2   \n",
       "7  POINT (1048100 253751)  1301851  794349          NaN       NaN   \n",
       "8  POINT (1067375 272841)  1340216  794534          NaN       NaN   \n",
       "\n",
       "        BoroName    Shape_Area     Shape_Leng  \n",
       "0            NaN           NaN            NaN  \n",
       "1  Staten Island  1.623847e+09  330454.175933  \n",
       "2  Staten Island  1.623847e+09  330454.175933  \n",
       "3            NaN           NaN            NaN  \n",
       "4            NaN           NaN            NaN  \n",
       "5         Queens  3.045079e+09  896875.396449  \n",
       "6          Bronx  1.186822e+09  464475.145651  \n",
       "7            NaN           NaN            NaN  \n",
       "8            NaN           NaN            NaN  "
      ]
     },
     "execution_count": 13,
     "metadata": {},
     "output_type": "execute_result"
    }
   ],
   "source": [
    "sjoin(pointdf, polydf, how=\"left\", op=\"within\")"
   ]
  },
  {
   "cell_type": "code",
   "execution_count": null,
   "metadata": {
    "collapsed": true
   },
   "outputs": [],
   "source": []
  }
 ],
 "metadata": {
  "kernelspec": {
   "display_name": "Python 2",
   "language": "python",
   "name": "python2"
  },
  "language_info": {
   "codemirror_mode": {
    "name": "ipython",
    "version": 2
   },
   "file_extension": ".py",
   "mimetype": "text/x-python",
   "name": "python",
   "nbconvert_exporter": "python",
   "pygments_lexer": "ipython2",
   "version": "2.7.10"
  }
 },
 "nbformat": 4,
 "nbformat_minor": 0
}
