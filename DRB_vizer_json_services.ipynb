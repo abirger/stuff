{
 "cells": [
  {
   "cell_type": "markdown",
   "metadata": {},
   "source": [
    "# DRB Vizer json services\n",
    "10/30/2015. Emilio Mayorga.   \n",
    "Run with Emilio's \"IOOS_test1\" conda envioronment (recent versions of most packages)"
   ]
  },
  {
   "cell_type": "markdown",
   "metadata": {},
   "source": [
    "http://www.wikiwatershed-vs.org examples:\n",
    "- meta requests\n",
    "  - http://www.wikiwatershed-vs.org/services/get_asset_info.php?opt=meta&asset_type=siso\n",
    "  - http://www.wikiwatershed-vs.org/services/get_asset_info.php?opt=meta&asset_type=siso&asset_id=CRBCZO_WCC019\n",
    "- data & recent_values requests\n",
    "  - http://www.wikiwatershed-vs.org/services/get_asset_info.php?opt=data&asset_type=siso&asset_id=CRBCZO_WCC019&var_id=all&units_mode=v1\n",
    "  - http://www.wikiwatershed-vs.org/services/get_asset_info.php?opt=data&asset_type=siso&asset_id=CRBCZO_WCC019&var_id=H1_WaterTemp\n",
    "  - http://www.wikiwatershed-vs.org/services/get_asset_info.php?opt=recent_values&asset_type=siso&asset_id=CRBCZO_WCC019&var_id=H1_WaterTemp&units_mode=v2\n",
    "- plot request\n",
    "  - http://www.wikiwatershed-vs.org/services/get_asset_info.php?opt=plot&asset_type=siso&asset_id=USGS_01474500&var_id=H1_WaterTemp&range=30d&y_axis_mode=global"
   ]
  },
  {
   "cell_type": "markdown",
   "metadata": {},
   "source": [
    "## Import packages and set up utility functions"
   ]
  },
  {
   "cell_type": "code",
   "execution_count": 1,
   "metadata": {
    "collapsed": true
   },
   "outputs": [],
   "source": [
    "import json\n",
    "import requests\n",
    "import pandas as pd\n",
    "import seaborn as sns\n",
    "import matplotlib.pyplot as plt\n",
    "%matplotlib inline"
   ]
  },
  {
   "cell_type": "code",
   "execution_count": 2,
   "metadata": {
    "collapsed": true
   },
   "outputs": [],
   "source": [
    "import datetime\n",
    "import time\n",
    "import calendar\n",
    "import pytz\n",
    "#from matplotlib.dates import date2num, num2date\n",
    "\n",
    "utc_tz = pytz.utc\n",
    "\n",
    "def epochsec_to_dt(epochsec):\n",
    "    \"\"\" Return the datetime object for epoch seconds epochsec\n",
    "    \"\"\"\n",
    "    dtnaive_dt = datetime.datetime.utcfromtimestamp(epochsec)\n",
    "    dtutc_dt   = dtnaive_dt.replace(tzinfo=pytz.utc)\n",
    "    return dtutc_dt"
   ]
  },
  {
   "cell_type": "code",
   "execution_count": 3,
   "metadata": {
    "collapsed": true
   },
   "outputs": [],
   "source": [
    "def get_measurement_byvarid(metaresult, var_id):\n",
    "    return [e for e in metaresult['measurements'] if e['var_id'] == var_id][0]"
   ]
  },
  {
   "cell_type": "markdown",
   "metadata": {},
   "source": [
    "## Service end point\n",
    "For vizer instance that currently serves only the CRB and outlying areas, but will be expanded to the DRB to support the William Penn project needs."
   ]
  },
  {
   "cell_type": "code",
   "execution_count": 4,
   "metadata": {
    "collapsed": true
   },
   "outputs": [],
   "source": [
    "vz_gai_url = \"http://www.wikiwatershed-vs.org/services/get_asset_info.php\""
   ]
  },
  {
   "cell_type": "markdown",
   "metadata": {},
   "source": [
    "## Meta info (metadata) requests\n",
    "siso = \"stationary in-situ observations\" (eg, a river gage, weather stationg, moored buoy, etc)"
   ]
  },
  {
   "cell_type": "code",
   "execution_count": 5,
   "metadata": {
    "collapsed": true
   },
   "outputs": [],
   "source": [
    "meta_r = requests.get(vz_gai_url, params={'asset_type':'siso', 'opt':'meta'})\n",
    "meta = meta_r.json()"
   ]
  },
  {
   "cell_type": "code",
   "execution_count": 6,
   "metadata": {
    "collapsed": false
   },
   "outputs": [
    {
     "data": {
      "text/plain": [
       "([u'result', u'success'], True)"
      ]
     },
     "execution_count": 6,
     "metadata": {},
     "output_type": "execute_result"
    }
   ],
   "source": [
    "meta.keys(), meta['success']"
   ]
  },
  {
   "cell_type": "code",
   "execution_count": 7,
   "metadata": {
    "collapsed": false
   },
   "outputs": [
    {
     "data": {
      "text/plain": [
       "(list, 59)"
      ]
     },
     "execution_count": 7,
     "metadata": {},
     "output_type": "execute_result"
    }
   ],
   "source": [
    "type(meta['result']), len(meta['result'])"
   ]
  },
  {
   "cell_type": "code",
   "execution_count": 8,
   "metadata": {
    "collapsed": false
   },
   "outputs": [],
   "source": [
    "# siso_id is the unique identifier (string type) for the station\n",
    "siso_id_lst = [e['siso_id'] for e in meta['result']]"
   ]
  },
  {
   "cell_type": "code",
   "execution_count": 9,
   "metadata": {
    "collapsed": false
   },
   "outputs": [
    {
     "data": {
      "text/plain": [
       "u'CRBCZO_WCC019'"
      ]
     },
     "execution_count": 9,
     "metadata": {},
     "output_type": "execute_result"
    }
   ],
   "source": [
    "# Examine the response for the first station (index 0) in the returned list\n",
    "meta['result'][0]['siso_id']"
   ]
  },
  {
   "cell_type": "code",
   "execution_count": 10,
   "metadata": {
    "collapsed": false
   },
   "outputs": [
    {
     "data": {
      "text/plain": [
       "{u'data_timezone': u'US/Eastern',\n",
       " u'lat': 39.8588,\n",
       " u'lon': -75.7833,\n",
       " u'measurements': [{u'depth': u'0.0m',\n",
       "   u'name': u'Conductivity',\n",
       "   u'units': u'mS/cm',\n",
       "   u'var_id': u'H1_Conductiv'},\n",
       "  {u'depth': u'0.0m',\n",
       "   u'name': u'Turbidity',\n",
       "   u'units': u'NTU',\n",
       "   u'var_id': u'H1_Turbidity'},\n",
       "  {u'depth': u'0.0m',\n",
       "   u'name': u'Water Level',\n",
       "   u'units': u'cm',\n",
       "   u'var_id': u'H2_WaterLevel'},\n",
       "  {u'depth': u'0.0m',\n",
       "   u'name': u'Water Temp.',\n",
       "   u'units': u'\\xb0C',\n",
       "   u'var_id': u'H1_WaterTemp'}],\n",
       " u'name': u'CRBCZO_WCC019',\n",
       " u'platform_type': u'River Gauge',\n",
       " u'provider': u'CRBCZO',\n",
       " u'provider_url': u'https://criticalzone.org/christina/',\n",
       " u'siso_id': u'CRBCZO_WCC019',\n",
       " u'url': u'http://swrcsensors.dreamhosters.com/charts_main_SL031.php'}"
      ]
     },
     "execution_count": 10,
     "metadata": {},
     "output_type": "execute_result"
    }
   ],
   "source": [
    "meta['result'][0]"
   ]
  },
  {
   "cell_type": "markdown",
   "metadata": {},
   "source": [
    "## Request and examine one station"
   ]
  },
  {
   "cell_type": "code",
   "execution_count": 11,
   "metadata": {
    "collapsed": true
   },
   "outputs": [],
   "source": [
    "# USGS Schuylkill River at Philadelphia\n",
    "siso_id = 'USGS_01474500'"
   ]
  },
  {
   "cell_type": "markdown",
   "metadata": {},
   "source": [
    "### Meta info request"
   ]
  },
  {
   "cell_type": "code",
   "execution_count": 12,
   "metadata": {
    "collapsed": true
   },
   "outputs": [],
   "source": [
    "# (asset_id, a more generic descriptor for the unique id of any asset)\n",
    "meta_r = requests.get(vz_gai_url, params={'asset_type':'siso', 'opt':'meta', \n",
    "                                          'asset_id':siso_id})"
   ]
  },
  {
   "cell_type": "code",
   "execution_count": 13,
   "metadata": {
    "collapsed": true
   },
   "outputs": [],
   "source": [
    "# use [0] to pull out the dict from the single-element list\n",
    "metaresult = meta_r.json()['result'][0]  # ideally, should first test for success"
   ]
  },
  {
   "cell_type": "code",
   "execution_count": 14,
   "metadata": {
    "collapsed": false
   },
   "outputs": [
    {
     "data": {
      "text/plain": [
       "[(u'H1_Conductiv', u'-0.5m'),\n",
       " (u'H1_Discharge', u'0m'),\n",
       " (u'H1_Oxygen', u'-0.5m'),\n",
       " (u'H1_pH', u'-0.5m'),\n",
       " (u'A2_Rain', u'1m'),\n",
       " (u'H1_RiverStage', u'0m'),\n",
       " (u'H2_Turbidity', u'-0.5m'),\n",
       " (u'H1_WaterTemp', u'-0.5m')]"
      ]
     },
     "execution_count": 14,
     "metadata": {},
     "output_type": "execute_result"
    }
   ],
   "source": [
    "# var_id is the unique identifier for a \"measurement\" (or variable)\n",
    "[(d['var_id'], d['depth']) for d in metaresult['measurements']]"
   ]
  },
  {
   "cell_type": "code",
   "execution_count": 15,
   "metadata": {
    "collapsed": false
   },
   "outputs": [
    {
     "data": {
      "text/plain": [
       "u'USGS 01474500'"
      ]
     },
     "execution_count": 15,
     "metadata": {},
     "output_type": "execute_result"
    }
   ],
   "source": [
    "metaresult['name']"
   ]
  },
  {
   "cell_type": "markdown",
   "metadata": {},
   "source": [
    "### Data request"
   ]
  },
  {
   "cell_type": "code",
   "execution_count": 16,
   "metadata": {
    "collapsed": true
   },
   "outputs": [],
   "source": [
    "data_r = requests.get(vz_gai_url, params={'asset_type':'siso', 'opt':'data', 'units_mode': 'v1',\n",
    "                                          'asset_id':siso_id, 'var_id':'all'})\n",
    "data = data_r.json()"
   ]
  },
  {
   "cell_type": "code",
   "execution_count": 17,
   "metadata": {
    "collapsed": false
   },
   "outputs": [
    {
     "data": {
      "text/plain": [
       "(True, 8, [u'var_id', u'data'], 1847)"
      ]
     },
     "execution_count": 17,
     "metadata": {},
     "output_type": "execute_result"
    }
   ],
   "source": [
    "data['success'], len(data['result']), data['result'][0].keys(), len(data['result'][0]['data'])"
   ]
  },
  {
   "cell_type": "code",
   "execution_count": 18,
   "metadata": {
    "collapsed": false
   },
   "outputs": [
    {
     "data": {
      "text/plain": [
       "{u'A2_Rain': 0,\n",
       " u'H1_Conductiv': 1,\n",
       " u'H1_Discharge': 2,\n",
       " u'H1_Oxygen': 3,\n",
       " u'H1_RiverStage': 5,\n",
       " u'H1_WaterTemp': 6,\n",
       " u'H1_pH': 4,\n",
       " u'H2_Turbidity': 7}"
      ]
     },
     "execution_count": 18,
     "metadata": {},
     "output_type": "execute_result"
    }
   ],
   "source": [
    "# Mapping of var_id string to 'result' list element index\n",
    "var_ids = {e['var_id']:i for i,e in enumerate(data['result'])}\n",
    "var_ids"
   ]
  },
  {
   "cell_type": "code",
   "execution_count": 19,
   "metadata": {
    "collapsed": true
   },
   "outputs": [],
   "source": [
    "var_id = 'H1_Discharge'"
   ]
  },
  {
   "cell_type": "code",
   "execution_count": 20,
   "metadata": {
    "collapsed": false
   },
   "outputs": [
    {
     "data": {
      "text/plain": [
       "{u'depth': u'0m',\n",
       " u'name': u'Discharge',\n",
       " u'units': u'm\\xb3/s',\n",
       " u'var_id': u'H1_Discharge'}"
      ]
     },
     "execution_count": 20,
     "metadata": {},
     "output_type": "execute_result"
    }
   ],
   "source": [
    "get_measurement_byvarid(metaresult, var_id)"
   ]
  },
  {
   "cell_type": "code",
   "execution_count": 21,
   "metadata": {
    "collapsed": false
   },
   "outputs": [
    {
     "data": {
      "text/plain": [
       "[{u'depth': u'0m', u'time': 1446139800, u'value': 175.5628},\n",
       " {u'depth': u'0m', u'time': 1446141600, u'value': 171.8816},\n",
       " {u'depth': u'0m', u'time': 1446143400, u'value': 168.2005},\n",
       " {u'depth': u'0m', u'time': 1446145200, u'value': 164.8025},\n",
       " {u'depth': u'0m', u'time': 1446147000, u'value': 161.1213},\n",
       " {u'depth': u'0m', u'time': 1446148800, u'value': 159.4223},\n",
       " {u'depth': u'0m', u'time': 1446150600, u'value': 156.0244},\n",
       " {u'depth': u'0m', u'time': 1446152400, u'value': 152.3432},\n",
       " {u'depth': u'0m', u'time': 1446154200, u'value': 148.9452},\n",
       " {u'depth': u'0m', u'time': 1446156000, u'value': 145.5472}]"
      ]
     },
     "execution_count": 21,
     "metadata": {},
     "output_type": "execute_result"
    }
   ],
   "source": [
    "data['result'][var_ids[var_id]]['data'][-10:]"
   ]
  },
  {
   "cell_type": "code",
   "execution_count": 22,
   "metadata": {
    "collapsed": false
   },
   "outputs": [],
   "source": [
    "# Pull out data time series for one variable based on var_id\n",
    "# returns a list of dicts\n",
    "data_lst = data['result'][var_ids[var_id]]['data']"
   ]
  },
  {
   "cell_type": "code",
   "execution_count": 23,
   "metadata": {
    "collapsed": false
   },
   "outputs": [],
   "source": [
    "data_df = pd.DataFrame.from_records(data_lst)"
   ]
  },
  {
   "cell_type": "code",
   "execution_count": 24,
   "metadata": {
    "collapsed": false
   },
   "outputs": [
    {
     "data": {
      "text/html": [
       "<div>\n",
       "<table border=\"1\" class=\"dataframe\">\n",
       "  <thead>\n",
       "    <tr style=\"text-align: right;\">\n",
       "      <th></th>\n",
       "      <th>depth</th>\n",
       "      <th>time</th>\n",
       "      <th>value</th>\n",
       "    </tr>\n",
       "  </thead>\n",
       "  <tbody>\n",
       "    <tr>\n",
       "      <th>0</th>\n",
       "      <td>0m</td>\n",
       "      <td>1440745200</td>\n",
       "      <td>17.6129</td>\n",
       "    </tr>\n",
       "    <tr>\n",
       "      <th>1</th>\n",
       "      <td>0m</td>\n",
       "      <td>1440747000</td>\n",
       "      <td>17.6129</td>\n",
       "    </tr>\n",
       "    <tr>\n",
       "      <th>2</th>\n",
       "      <td>0m</td>\n",
       "      <td>1440748800</td>\n",
       "      <td>17.6129</td>\n",
       "    </tr>\n",
       "    <tr>\n",
       "      <th>3</th>\n",
       "      <td>0m</td>\n",
       "      <td>1440750600</td>\n",
       "      <td>17.6129</td>\n",
       "    </tr>\n",
       "    <tr>\n",
       "      <th>4</th>\n",
       "      <td>0m</td>\n",
       "      <td>1440752400</td>\n",
       "      <td>17.6129</td>\n",
       "    </tr>\n",
       "  </tbody>\n",
       "</table>\n",
       "</div>"
      ],
      "text/plain": [
       "  depth        time    value\n",
       "0    0m  1440745200  17.6129\n",
       "1    0m  1440747000  17.6129\n",
       "2    0m  1440748800  17.6129\n",
       "3    0m  1440750600  17.6129\n",
       "4    0m  1440752400  17.6129"
      ]
     },
     "execution_count": 24,
     "metadata": {},
     "output_type": "execute_result"
    }
   ],
   "source": [
    "data_df.head()"
   ]
  },
  {
   "cell_type": "markdown",
   "metadata": {},
   "source": [
    "Create `dtutc` column with parsed datetime. Also, it's safer to rename the \"value\" column to something unlikely to conflict with pandas method names."
   ]
  },
  {
   "cell_type": "code",
   "execution_count": 25,
   "metadata": {
    "collapsed": false
   },
   "outputs": [],
   "source": [
    "data_df['dtutc'] = data_df.time.map(lambda es: epochsec_to_dt(es))\n",
    "data_df.set_index('dtutc', inplace=True, verify_integrity=True)\n",
    "data_df.index.name = 'dtutc'\n",
    "data_df = data_df.rename(columns={'value':var_id})"
   ]
  },
  {
   "cell_type": "code",
   "execution_count": 26,
   "metadata": {
    "collapsed": false
   },
   "outputs": [
    {
     "name": "stdout",
     "output_type": "stream",
     "text": [
      "<class 'pandas.core.frame.DataFrame'>\n",
      "DatetimeIndex: 1847 entries, 2015-08-28 07:00:00+00:00 to 2015-10-29 22:00:00+00:00\n",
      "Data columns (total 3 columns):\n",
      "depth           1847 non-null object\n",
      "time            1847 non-null int64\n",
      "H1_Discharge    1847 non-null float64\n",
      "dtypes: float64(1), int64(1), object(1)\n",
      "memory usage: 57.7+ KB\n"
     ]
    }
   ],
   "source": [
    "data_df.info()"
   ]
  },
  {
   "cell_type": "code",
   "execution_count": 27,
   "metadata": {
    "collapsed": false
   },
   "outputs": [
    {
     "data": {
      "text/html": [
       "<div>\n",
       "<table border=\"1\" class=\"dataframe\">\n",
       "  <thead>\n",
       "    <tr style=\"text-align: right;\">\n",
       "      <th></th>\n",
       "      <th>depth</th>\n",
       "      <th>time</th>\n",
       "      <th>H1_Discharge</th>\n",
       "    </tr>\n",
       "    <tr>\n",
       "      <th>dtutc</th>\n",
       "      <th></th>\n",
       "      <th></th>\n",
       "      <th></th>\n",
       "    </tr>\n",
       "  </thead>\n",
       "  <tbody>\n",
       "    <tr>\n",
       "      <th>2015-08-28 07:00:00+00:00</th>\n",
       "      <td>0m</td>\n",
       "      <td>1440745200</td>\n",
       "      <td>17.6129</td>\n",
       "    </tr>\n",
       "    <tr>\n",
       "      <th>2015-08-28 07:30:00+00:00</th>\n",
       "      <td>0m</td>\n",
       "      <td>1440747000</td>\n",
       "      <td>17.6129</td>\n",
       "    </tr>\n",
       "    <tr>\n",
       "      <th>2015-08-28 08:00:00+00:00</th>\n",
       "      <td>0m</td>\n",
       "      <td>1440748800</td>\n",
       "      <td>17.6129</td>\n",
       "    </tr>\n",
       "    <tr>\n",
       "      <th>2015-08-28 08:30:00+00:00</th>\n",
       "      <td>0m</td>\n",
       "      <td>1440750600</td>\n",
       "      <td>17.6129</td>\n",
       "    </tr>\n",
       "    <tr>\n",
       "      <th>2015-08-28 09:00:00+00:00</th>\n",
       "      <td>0m</td>\n",
       "      <td>1440752400</td>\n",
       "      <td>17.6129</td>\n",
       "    </tr>\n",
       "  </tbody>\n",
       "</table>\n",
       "</div>"
      ],
      "text/plain": [
       "                          depth        time  H1_Discharge\n",
       "dtutc                                                    \n",
       "2015-08-28 07:00:00+00:00    0m  1440745200       17.6129\n",
       "2015-08-28 07:30:00+00:00    0m  1440747000       17.6129\n",
       "2015-08-28 08:00:00+00:00    0m  1440748800       17.6129\n",
       "2015-08-28 08:30:00+00:00    0m  1440750600       17.6129\n",
       "2015-08-28 09:00:00+00:00    0m  1440752400       17.6129"
      ]
     },
     "execution_count": 27,
     "metadata": {},
     "output_type": "execute_result"
    }
   ],
   "source": [
    "data_df.head()"
   ]
  },
  {
   "cell_type": "code",
   "execution_count": 28,
   "metadata": {
    "collapsed": false
   },
   "outputs": [
    {
     "data": {
      "text/html": [
       "<div>\n",
       "<table border=\"1\" class=\"dataframe\">\n",
       "  <thead>\n",
       "    <tr style=\"text-align: right;\">\n",
       "      <th></th>\n",
       "      <th>time</th>\n",
       "      <th>H1_Discharge</th>\n",
       "    </tr>\n",
       "  </thead>\n",
       "  <tbody>\n",
       "    <tr>\n",
       "      <th>count</th>\n",
       "      <td>1.847000e+03</td>\n",
       "      <td>1847.000000</td>\n",
       "    </tr>\n",
       "    <tr>\n",
       "      <th>mean</th>\n",
       "      <td>1.443639e+09</td>\n",
       "      <td>34.681999</td>\n",
       "    </tr>\n",
       "    <tr>\n",
       "      <th>std</th>\n",
       "      <td>1.839504e+06</td>\n",
       "      <td>27.952877</td>\n",
       "    </tr>\n",
       "    <tr>\n",
       "      <th>min</th>\n",
       "      <td>1.440745e+09</td>\n",
       "      <td>11.921300</td>\n",
       "    </tr>\n",
       "    <tr>\n",
       "      <th>25%</th>\n",
       "      <td>1.441652e+09</td>\n",
       "      <td>17.612900</td>\n",
       "    </tr>\n",
       "    <tr>\n",
       "      <th>50%</th>\n",
       "      <td>1.444302e+09</td>\n",
       "      <td>25.088500</td>\n",
       "    </tr>\n",
       "    <tr>\n",
       "      <th>75%</th>\n",
       "      <td>1.445251e+09</td>\n",
       "      <td>36.811600</td>\n",
       "    </tr>\n",
       "    <tr>\n",
       "      <th>max</th>\n",
       "      <td>1.446156e+09</td>\n",
       "      <td>177.545000</td>\n",
       "    </tr>\n",
       "  </tbody>\n",
       "</table>\n",
       "</div>"
      ],
      "text/plain": [
       "               time  H1_Discharge\n",
       "count  1.847000e+03   1847.000000\n",
       "mean   1.443639e+09     34.681999\n",
       "std    1.839504e+06     27.952877\n",
       "min    1.440745e+09     11.921300\n",
       "25%    1.441652e+09     17.612900\n",
       "50%    1.444302e+09     25.088500\n",
       "75%    1.445251e+09     36.811600\n",
       "max    1.446156e+09    177.545000"
      ]
     },
     "execution_count": 28,
     "metadata": {},
     "output_type": "execute_result"
    }
   ],
   "source": [
    "data_df.describe()"
   ]
  },
  {
   "cell_type": "code",
   "execution_count": 29,
   "metadata": {
    "collapsed": false
   },
   "outputs": [
    {
     "data": {
      "image/png": "[encoded data removed]",
      "text/plain": [
       "<matplotlib.figure.Figure at 0x7f394c588050>"
      ]
     },
     "metadata": {},
     "output_type": "display_data"
    }
   ],
   "source": [
    "var_info = get_measurement_byvarid(metaresult, var_id)\n",
    "title = \"%s (%s) at %s\" % (var_info['name'], var_id, metaresult['name'])\n",
    "data_df[var_id].plot(title=title, figsize=[11,5])\n",
    "plt.ylabel(var_info['units']);"
   ]
  }
 ],
 "metadata": {
  "kernelspec": {
   "display_name": "Python 2",
   "language": "python",
   "name": "python2"
  },
  "language_info": {
   "codemirror_mode": {
    "name": "ipython",
    "version": 2
   },
   "file_extension": ".py",
   "mimetype": "text/x-python",
   "name": "python",
   "nbconvert_exporter": "python",
   "pygments_lexer": "ipython2",
   "version": "2.7.10"
  }
 },
 "nbformat": 4,
 "nbformat_minor": 0
}
